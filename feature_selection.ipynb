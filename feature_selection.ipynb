{
 "cells": [
  {
   "cell_type": "code",
   "execution_count": 2,
   "metadata": {
    "collapsed": true
   },
   "outputs": [],
   "source": [
    "import pandas as pd\n",
    "import csv\n",
    "from sklearn.feature_selection import SelectKBest\n",
    "from sklearn.feature_selection import f_regression, mutual_info_regression\n",
    "\n",
    "import sys\n",
    "workDir = \"path/to/datasets/directory\"\n",
    "sys.path.append(workDir + \"/src/\")\n",
    "\n",
    "pd.set_option('display.max_rows', 500)\n",
    "pd.set_option('display.max_columns', 500)\n",
    "pd.set_option('display.width', 1000)"
   ]
  },
  {
   "cell_type": "code",
   "execution_count": 5,
   "metadata": {},
   "outputs": [
    {
     "name": "stdout",
     "output_type": "stream",
     "text": [
      "(102861, 105)\n"
     ]
    },
    {
     "name": "stderr",
     "output_type": "stream",
     "text": [
      "/usr/local/lib/python3.6/site-packages/IPython/core/interactiveshell.py:2705: DtypeWarning: Columns (13,26,47) have mixed types. Specify dtype option on import or set low_memory=False.\n  interactivity=interactivity, compiler=compiler, result=result)\n"
     ]
    }
   ],
   "source": [
    "# feature selection on iperf dataset with sklearn\n",
    "filenameDl = workDir + \"/datasets/20190426_iperf_samsung.csv\"\n",
    "data_iperf_raw = pd.read_csv(filepath_or_buffer=filenameDl, sep=',', decimal='.', parse_dates=['timestamp'])\n",
    "print(data_iperf_raw.shape)"
   ]
  },
  {
   "cell_type": "code",
   "execution_count": 6,
   "metadata": {},
   "outputs": [
    {
     "name": "stdout",
     "output_type": "stream",
     "text": [
      "(102861, 94)\n"
     ]
    }
   ],
   "source": [
    "# drop columns with NaN values exclusively\n",
    "maxNaCount = len(data_iperf_raw) - int(0.9 * len(data_iperf_raw))\n",
    "data_iperf_raw = data_iperf_raw.dropna(axis=\"columns\", how=\"all\", inplace=False, thresh=maxNaCount)\n",
    "print(data_iperf_raw.shape)"
   ]
  },
  {
   "cell_type": "code",
   "execution_count": 7,
   "metadata": {},
   "outputs": [
    {
     "name": "stdout",
     "output_type": "stream",
     "text": [
      "(102861, 89)\n"
     ]
    }
   ],
   "source": [
    "# izbris drop constant object columns\n",
    "objColumns = data_iperf_raw.select_dtypes(include=['object']).columns\n",
    "dropColnames = data_iperf_raw.loc[:, [col for col in data_iperf_raw[objColumns].columns if data_iperf_raw[col].nunique() <= 1]].columns\n",
    "data_iperf_raw.drop(dropColnames, axis=\"columns\", inplace=True)\n",
    "\n",
    "print(data_iperf_raw.shape)"
   ]
  },
  {
   "cell_type": "code",
   "execution_count": 8,
   "metadata": {},
   "outputs": [
    {
     "name": "stdout",
     "output_type": "stream",
     "text": [
      "(102861, 65)\n"
     ]
    }
   ],
   "source": [
    "_stopColDrop = [col for col in data_iperf_raw.columns if \"_stop\" in col]\n",
    "data_iperf_raw.drop(_stopColDrop, axis=\"columns\", inplace=True)\n",
    "print(data_iperf_raw.shape)"
   ]
  },
  {
   "cell_type": "code",
   "execution_count": 10,
   "metadata": {},
   "outputs": [
    {
     "name": "stdout",
     "output_type": "stream",
     "text": [
      "Number of different categories per column:\n(102861, 65)\n 1    44328\n 0    32151\n 2    23228\n-1     3154\nName: radio_lte_ca_state_start, dtype: int64\n(102861, 65)\n"
     ]
    }
   ],
   "source": [
    "data_iperf_raw[data_iperf_raw.select_dtypes(include=['object']).columns] = data_iperf_raw.\\\n",
    "    select_dtypes(include=[object]).apply(lambda x: x.astype(\"category\"))\n",
    "\n",
    "print(\"Number of different categories per column:\")\n",
    "data_iperf_raw.select_dtypes(['category']).apply(lambda x: print(x.name, \":   \", x.cat.codes.max() + 1))\n",
    "\n",
    "# select only columns with more than 1 unique value\n",
    "# data_iperf_raw = data_iperf_raw.loc[:, [col for col in data_iperf_raw.columns if data_iperf_raw[col].nunique() > 1]]\n",
    "\n",
    "catColumns = data_iperf_raw.select_dtypes(include=[\"category\"]).columns\n",
    "dropColnames = data_iperf_raw.loc[:, [col for col in data_iperf_raw[catColumns].columns if data_iperf_raw[col].cat.codes.max() < 1]].columns\n",
    "data_iperf_raw.drop(dropColnames, axis=\"columns\", inplace=True)\n",
    "\n",
    "# categories - replace categorical strings with ids\n",
    "dataAttributeSelection = data_iperf_raw\n",
    "catColumns = data_iperf_raw.select_dtypes(include=[\"category\"]).columns\n",
    "dataAttributeSelection[catColumns] = dataAttributeSelection[catColumns].apply(lambda x: x.cat.codes)\n",
    "\n",
    "outputToCsv = False\n",
    "if outputToCsv:\n",
    "    outCsv = workDir + \"/datasets/20190518_feature_selection_iperf.csv\"\n",
    "    data_iperf_raw.to_csv(path_or_buf=outCsv, sep=',', decimal='.', quoting=csv.QUOTE_NONNUMERIC,\n",
    "                          encoding='utf-8', index=True)\n",
    "\n",
    "\n",
    "print(data_iperf_raw.shape)"
   ]
  },
  {
   "cell_type": "code",
   "execution_count": 12,
   "metadata": {},
   "outputs": [
    {
     "name": "stdout",
     "output_type": "stream",
     "text": [
      "(32518, 65)\n(31688, 47)\n"
     ]
    }
   ],
   "source": [
    "# DL and UL iperf tests are significantly different: some attributes are NaN for DL\n",
    "mode = \"DL\"\n",
    "protocol = \"TCP\"\n",
    "\n",
    "directionDlCode = 0\n",
    "tcpProtocolCode = 0\n",
    "\n",
    "if mode == \"DL\":\n",
    "    dataDirectional = dataAttributeSelection.loc[dataAttributeSelection.direction == directionDlCode]\n",
    "else:\n",
    "    dataDirectional = dataAttributeSelection.loc[dataAttributeSelection.direction != directionDlCode]\n",
    "\n",
    "if protocol == \"TCP\":\n",
    "    dataDirectional = dataDirectional.loc[dataDirectional.protocol == tcpProtocolCode]\n",
    "\n",
    "print(dataDirectional.shape)\n",
    "\n",
    "# keep columns with less that 10% of NaNs\n",
    "maxNaCount = int(dataDirectional.shape[0] * 0.10)\n",
    "naColDrop = dataDirectional.loc[:, dataDirectional.isna().sum() > maxNaCount].columns\n",
    "dataDirectional.drop(naColDrop, axis=\"columns\", inplace=True)\n",
    "\n",
    "# finally, all the rows containing NaN values can be dropped\n",
    "dataDirectional = dataDirectional.dropna(axis=\"rows\", how=\"any\")\n",
    "print(dataDirectional.shape)"
   ]
  },
  {
   "cell_type": "code",
   "execution_count": 16,
   "metadata": {},
   "outputs": [
    {
     "name": "stdout",
     "output_type": "stream",
     "text": [
      "(31688, 8)\n(31688,)\n\n 0    4142.22\nName: radio_rsrq_db_start, dtype: object\n\n 0    10006.1\nName: radio_sinr_db_start, dtype: object\n\n 0    462.037\nName: radio_lte_ca_state_start, dtype: object\n\n 0    1367.11\nName: radio_rssi_dbm_start, dtype: object\n\n 0    62342.8\nName: transfer_bytes, dtype: object\n\n 0    3.26069\nName: radio_rsrp_dbm_start, dtype: object\n\n 0    NaN\nName: protocol, dtype: object\n\n 0    101.447\nName: hash, dtype: object\n"
     ]
    }
   ],
   "source": [
    "# select a column to act as a label\n",
    "dataDirectional = dataDirectional[[\"kbps\", \"radio_rsrq_db_start\", \"radio_sinr_db_start\", \"timestamp\", \"radio_lte_ca_state_start\",\n",
    "                                   \"radio_rssi_dbm_start\", \"transfer_bytes\", \"radio_rsrp_dbm_start\", \"protocol\", \"hash\"]].dropna(axis=\"rows\", how=\"any\")\n",
    "labelColname = \"kbps\"\n",
    "X = dataDirectional.drop(labelColname, axis=\"columns\")\n",
    "X = X.drop(\"timestamp\", axis=\"columns\")\n",
    "Y = dataDirectional[labelColname]\n",
    "\n",
    "print(X.shape)\n",
    "print(Y.shape)\n",
    "\n",
    "selector = SelectKBest(f_regression, k='all')\n",
    "\n",
    "fit = selector.fit(X, Y)\n",
    "res = pd.DataFrame(index=[0], columns=X.columns)\n",
    "# print(fit.scores_)\n",
    "res.iloc[0] = fit.scores_\n",
    "\n",
    "for col in res.columns:\n",
    "    print(\"\\n\", res[col])\n"
   ]
  }
 ],
 "metadata": {
  "kernelspec": {
   "display_name": "Python 2",
   "language": "python",
   "name": "python2"
  },
  "language_info": {
   "codemirror_mode": {
    "name": "ipython",
    "version": 2
   },
   "file_extension": ".py",
   "mimetype": "text/x-python",
   "name": "python",
   "nbconvert_exporter": "python",
   "pygments_lexer": "ipython2",
   "version": "2.7.6"
  }
 },
 "nbformat": 4,
 "nbformat_minor": 0
}
